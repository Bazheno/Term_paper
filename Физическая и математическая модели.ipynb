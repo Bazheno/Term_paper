{
 "cells": [
  {
   "cell_type": "markdown",
   "metadata": {
    "collapsed": true
   },
   "source": [
    "Перед началом программирования необходимо сформулировать физическую и математическую модели. Перед нами стоит задача расчета движения гармонического осциллятора под действием двух гармонических сил.  "
   ]
  },
  {
   "cell_type": "markdown",
   "metadata": {},
   "source": [
    "Физически можно представить себе груз, присоединенный к пружине и перемещающийся в горизонтальной плоскости. Тело движется под действием силы упругости $F=kx$. А также под действием двух других сил $F_1 = A \\cos{\\omega t}$ и $F_2 = n A \\cos{ \\omega t}$, где $n, A$ - целые числа. "
   ]
  },
  {
   "cell_type": "code",
   "execution_count": 4,
   "metadata": {},
   "outputs": [
    {
     "data": {
      "image/png": "[encoded data removed]",
      "text/plain": [
       "<IPython.core.display.Image object>"
      ]
     },
     "execution_count": 4,
     "metadata": {},
     "output_type": "execute_result"
    }
   ],
   "source": [
    "from IPython.display import Image\n",
    "Image(filename='pic1.png') "
   ]
  },
  {
   "cell_type": "markdown",
   "metadata": {},
   "source": [
    "Силы были указаны в случайном порядке, т.к. $A, n$ могут быть разных знаков. "
   ]
  },
  {
   "cell_type": "markdown",
   "metadata": {},
   "source": [
    "Запишем второй закон Ньютона для данного тела\n",
    "$$\\vec{F}_1 + \\vec{F}_2 + \\vec{F}_{\\text{упр}} = m \\vec{a}$$\n",
    "\n",
    "Или в проекции на ось $Ox$\n",
    "$$\n",
    "a = \\cfrac{F_1}{m} - \\cfrac{F_2}{m} - \\cfrac{kx}{m}\n",
    "$$\n",
    "\n",
    "Введем дополнительные обозначения: \n",
    "$$\n",
    "\\omega_0 = \\sqrt{\\cfrac{k}{m}} - \\text{ собственная частота колебаний осциллятора} \n",
    "$$\n",
    "\n",
    "Тогда уравнение принимает вид\n",
    "\n",
    "$$\n",
    "a = \\cfrac{F_1}{m} - \\cfrac{F_2}{m} - \\omega_0^2 x\n",
    "$$"
   ]
  },
  {
   "cell_type": "markdown",
   "metadata": {},
   "source": [
    "Перейдем к математической модели нашей задачи:"
   ]
  },
  {
   "cell_type": "markdown",
   "metadata": {},
   "source": [
    "Если записать все величины в терминах координаты, то получим неоднородное дифференциальное уравнение второго порядка:\n",
    "$$\n",
    "\\ddot{x} + \\omega_0^2 x = \\frac{A(n+1)}{m} \\cos{\\omega t}\n",
    "$$\n",
    "<span style=\"color:red\">Примечание: </span>  мы заменили знак у одной из сил, т.к. это не влияет на решение уравнения ведь у нас есть свободные константы\n",
    "\n",
    "Решением данного уравнения будет являться комбинация: \n",
    "$$\n",
    "\\text{Общее решение однородного} + \\text{ Частное решение неоднородного}\n",
    "$$\n"
   ]
  },
  {
   "cell_type": "markdown",
   "metadata": {},
   "source": [
    "РЕШЕНИЕ ОДНОРОДНОГО УРАВНЕНИЯ:\n",
    "$$\n",
    "\\ddot{x} + \\omega_0^2 x = 0\n",
    "$$\n",
    "\n",
    "Составим характеристическое уравнение: \n",
    "\n",
    "$$\n",
    "\\lambda^2 + \\omega_0^2= 0\n",
    "$$\n",
    "\n",
    "Решения такого квадратного уравнения является комплексным числом\n",
    "$$\n",
    "\\lambda_1 = i \\omega_0 \\;\\;\\; \\lambda_2 = -i \\omega_0\n",
    "$$\n",
    "\n",
    "Значит решение однородного дифференциального уравнения\n",
    "\n",
    "$$\n",
    "x_0 = \\hat{C}_1 e^{i\\omega_0 t} + \\hat{C}_2 e^{-i\\omega_0 t}\n",
    "$$\n",
    "\n",
    "С учетом знаний того, как выражаются комплексные экспоненты через тригонометрические функции можем записать ответ в виде:\n",
    "\n",
    "$$\n",
    "x_0 = C_1 \\cos{\\omega_0 t} + C_2 \\sin{\\omega_0 t}\n",
    "$$"
   ]
  },
  {
   "cell_type": "markdown",
   "metadata": {},
   "source": [
    "ЧАСТНОЕ РЕШЕНИЕ НЕОДНОРОДНОГО УРАВНЕНИЯ:\n",
    "    \n",
    "Запишем немного упростив $\\left(\\frac{A(n+1)}{m} = W\\right)$\n",
    "$$\n",
    "\\ddot{x} + \\omega_0^2 x = W \\cos{\\omega t}\n",
    "$$\n",
    "\n",
    "Будем искать решение в виде:\n",
    "\n",
    "$$\n",
    "x_1 = B \\cos{\\omega t}\n",
    "$$\n",
    "\n",
    "Подставим и сократим косинус:\n",
    "\n",
    "$$\n",
    "-\\omega^2 B + \\omega_0^2 B = W\n",
    "$$\n",
    "\n",
    "Следовательно\n",
    "\n",
    "$$\n",
    "B = \\cfrac{W}{\\omega_0^2 - \\omega^2}\n",
    "$$\n",
    "\n",
    "Значит частное решение:\n",
    "\n",
    "$$\n",
    "x_1 = \\cfrac{W}{\\omega_0^2 - \\omega^2} \\cos{\\omega t}\n",
    "$$"
   ]
  },
  {
   "cell_type": "markdown",
   "metadata": {},
   "source": [
    "Запишем получившееся решение и проанализируем:\n",
    "\n",
    "$$\n",
    "x = x_0 + x_1 = C_1 \\cos{\\omega_0 t} + C_2 \\sin{\\omega_0 t} + \\cfrac{A(n+1)}{m(\\omega_0^2 - \\omega^2)} \\cos{\\omega t}\n",
    "$$"
   ]
  },
  {
   "cell_type": "markdown",
   "metadata": {},
   "source": [
    "Видим некоторые особенности:\n",
    "\n",
    "1) Константы $C_1$ и $C_2$ могут быть определены при задании начальных условий (не особенность, но стоит упомянуть)\n",
    "\n",
    "2) При совпадении частоты вынуждающих сил и собственной частоты колебательной системы у нас возникает деление на 0, что является нефизичным ответом\n",
    "\n",
    "3) Проблема разрешается, если мы переходим от модельной математической системы к физической, в которой всегда есть силы трения\n",
    "\n",
    "4) Таким образом, добавляя слагаемое типа $\\gamma \\dot{x}$ в наше уравнение мы избегаем подобных расходимостей"
   ]
  },
  {
   "cell_type": "code",
   "execution_count": null,
   "metadata": {
    "collapsed": true
   },
   "outputs": [],
   "source": []
  }
 ],
 "metadata": {
  "kernelspec": {
   "display_name": "Python 3",
   "language": "python",
   "name": "python3"
  },
  "language_info": {
   "codemirror_mode": {
    "name": "ipython",
    "version": 3
   },
   "file_extension": ".py",
   "mimetype": "text/x-python",
   "name": "python",
   "nbconvert_exporter": "python",
   "pygments_lexer": "ipython3",
   "version": "3.6.1"
  }
 },
 "nbformat": 4,
 "nbformat_minor": 2
}
